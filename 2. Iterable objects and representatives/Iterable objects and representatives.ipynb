{
 "cells": [
  {
   "cell_type": "code",
   "execution_count": 4,
   "metadata": {},
   "outputs": [],
   "source": [
    "import pandas as pd\n",
    "import numpy as np"
   ]
  },
  {
   "cell_type": "markdown",
   "metadata": {},
   "source": [
    "### enumerate()\n",
    "\n",
    "Your task is, given a string, to define the function retrieve_character_indices() that creates a dictionary character_indices, where each key represents a unique character from the string and the corresponding value is a list containing the indices/positions of this letter in the string.\n",
    "\n",
    "For example, passing the string 'ukulele' to the retrieve_character_indices() function should result in the following output: {'e': [4, 6], 'k': [1], 'l': [3, 5], 'u': [0, 2]}.\n",
    "\n",
    "For this task, you are not allowed to use any string methods!"
   ]
  },
  {
   "cell_type": "code",
   "execution_count": 1,
   "metadata": {},
   "outputs": [
    {
     "name": "stdout",
     "output_type": "stream",
     "text": [
      "{'e': [0, 4, 8, 15, 20], 'n': [1, 11], 'u': [2], 'm': [3], 'r': [5, 16], 'a': [6, 10, 17], 't': [7, 14], ' ': [9, 12], 'I': [13], 'b': [18], 'l': [19]}\n"
     ]
    }
   ],
   "source": [
    "def retrieve_character_indices(string):\n",
    "    character_indices = dict()\n",
    "    # Define the 'for' loop\n",
    "    for index, character in enumerate(string):\n",
    "        # Update the dictionary if the key already exists\n",
    "        if character in character_indices:\n",
    "            character_indices[character].append(index)\n",
    "        # Update the dictionary if the key is absent\n",
    "        else:\n",
    "            character_indices[character] = [index]\n",
    "            \n",
    "    return character_indices\n",
    "  \n",
    "print(retrieve_character_indices('enumerate an Iterable'))"
   ]
  },
  {
   "cell_type": "markdown",
   "metadata": {},
   "source": [
    "### Iterators:\n",
    "\n",
    "All Iterables like list, set, or dict must have the associated Iterator. You are given the dictionary pets whose keys are Harry Potter characters and the values are the corresponding creature companions they had. \n",
    "\n",
    "Your task is to answer the set of questions regarding the Iterator created from the pets dictionary."
   ]
  },
  {
   "cell_type": "code",
   "execution_count": 2,
   "metadata": {},
   "outputs": [],
   "source": [
    "pets = {'Harry': 'Hedwig the owl', 'Hermione': 'Crookshanks the cat', 'Ron': 'Scabbers the rat'}"
   ]
  },
  {
   "cell_type": "code",
   "execution_count": 6,
   "metadata": {},
   "outputs": [
    {
     "data": {
      "text/plain": [
       "dict_values(['Hedwig the owl', 'Crookshanks the cat', 'Scabbers the rat'])"
      ]
     },
     "execution_count": 6,
     "metadata": {},
     "output_type": "execute_result"
    }
   ],
   "source": [
    "pets.values()"
   ]
  },
  {
   "cell_type": "markdown",
   "metadata": {},
   "source": [
    "### Traversing a DataFrame\n",
    "Let's iterate through a DataFrame! You are given the heroes DataFrame. This time, it contains only categorical data and no missing values. Create the following dictionary from this dataset:\n",
    "\n",
    "    . Each key is a column name.\n",
    "    . Each value is another dictionary:\n",
    "        . Each key is a unique category from the column.\n",
    "        . Each value is the amount of heroes falling into this category.\n",
    "\n",
    "Tip: a Series object is also an Iterable. It traverses through the values it stores when you put it in a for loop or pass it to list(), tuple(), or set() initializers."
   ]
  },
  {
   "cell_type": "code",
   "execution_count": 30,
   "metadata": {},
   "outputs": [
    {
     "data": {
      "text/html": [
       "<div>\n",
       "<style scoped>\n",
       "    .dataframe tbody tr th:only-of-type {\n",
       "        vertical-align: middle;\n",
       "    }\n",
       "\n",
       "    .dataframe tbody tr th {\n",
       "        vertical-align: top;\n",
       "    }\n",
       "\n",
       "    .dataframe thead th {\n",
       "        text-align: right;\n",
       "    }\n",
       "</style>\n",
       "<table border=\"1\" class=\"dataframe\">\n",
       "  <thead>\n",
       "    <tr style=\"text-align: right;\">\n",
       "      <th></th>\n",
       "      <th>Gender</th>\n",
       "      <th>Eye color</th>\n",
       "      <th>Race</th>\n",
       "      <th>Hair color</th>\n",
       "      <th>Publisher</th>\n",
       "      <th>Skin color</th>\n",
       "      <th>Alignment</th>\n",
       "    </tr>\n",
       "    <tr>\n",
       "      <th>name</th>\n",
       "      <th></th>\n",
       "      <th></th>\n",
       "      <th></th>\n",
       "      <th></th>\n",
       "      <th></th>\n",
       "      <th></th>\n",
       "      <th></th>\n",
       "    </tr>\n",
       "  </thead>\n",
       "  <tbody>\n",
       "    <tr>\n",
       "      <th>A-Bomb</th>\n",
       "      <td>Male</td>\n",
       "      <td>yellow</td>\n",
       "      <td>Human</td>\n",
       "      <td>No Hair</td>\n",
       "      <td>Marvel Comics</td>\n",
       "      <td>-</td>\n",
       "      <td>good</td>\n",
       "    </tr>\n",
       "    <tr>\n",
       "      <th>Abe Sapien</th>\n",
       "      <td>Male</td>\n",
       "      <td>blue</td>\n",
       "      <td>Icthyo Sapien</td>\n",
       "      <td>No Hair</td>\n",
       "      <td>Dark Horse Comics</td>\n",
       "      <td>blue</td>\n",
       "      <td>good</td>\n",
       "    </tr>\n",
       "    <tr>\n",
       "      <th>Abin Sur</th>\n",
       "      <td>Male</td>\n",
       "      <td>blue</td>\n",
       "      <td>Ungaran</td>\n",
       "      <td>No Hair</td>\n",
       "      <td>DC Comics</td>\n",
       "      <td>red</td>\n",
       "      <td>good</td>\n",
       "    </tr>\n",
       "    <tr>\n",
       "      <th>Abomination</th>\n",
       "      <td>Male</td>\n",
       "      <td>green</td>\n",
       "      <td>Human / Radiation</td>\n",
       "      <td>No Hair</td>\n",
       "      <td>Marvel Comics</td>\n",
       "      <td>-</td>\n",
       "      <td>bad</td>\n",
       "    </tr>\n",
       "    <tr>\n",
       "      <th>Abraxas</th>\n",
       "      <td>Male</td>\n",
       "      <td>blue</td>\n",
       "      <td>Cosmic Entity</td>\n",
       "      <td>Black</td>\n",
       "      <td>Marvel Comics</td>\n",
       "      <td>-</td>\n",
       "      <td>bad</td>\n",
       "    </tr>\n",
       "  </tbody>\n",
       "</table>\n",
       "</div>"
      ],
      "text/plain": [
       "            Gender Eye color               Race Hair color          Publisher  \\\n",
       "name                                                                            \n",
       "A-Bomb        Male    yellow              Human    No Hair      Marvel Comics   \n",
       "Abe Sapien    Male      blue      Icthyo Sapien    No Hair  Dark Horse Comics   \n",
       "Abin Sur      Male      blue            Ungaran    No Hair          DC Comics   \n",
       "Abomination   Male     green  Human / Radiation    No Hair      Marvel Comics   \n",
       "Abraxas       Male      blue      Cosmic Entity      Black      Marvel Comics   \n",
       "\n",
       "            Skin color Alignment  \n",
       "name                              \n",
       "A-Bomb               -      good  \n",
       "Abe Sapien        blue      good  \n",
       "Abin Sur           red      good  \n",
       "Abomination          -       bad  \n",
       "Abraxas              -       bad  "
      ]
     },
     "execution_count": 30,
     "metadata": {},
     "output_type": "execute_result"
    }
   ],
   "source": [
    "heroes = pd.read_csv('heroes_information.csv',index_col=['name'],usecols=['name','Gender','Eye color','Race','Hair color','Publisher','Skin color','Alignment'])\n",
    "heroes.head()"
   ]
  },
  {
   "cell_type": "code",
   "execution_count": 32,
   "metadata": {},
   "outputs": [
    {
     "name": "stdout",
     "output_type": "stream",
     "text": [
      "{'Gender': {'Male': 505, 'Female': 200, '-': 29}, 'Eye color': {'gold': 3, 'white': 17, 'white / red': 1, 'yellow (without irises)': 2, 'yellow / blue': 1, 'yellow / red': 1, 'indigo': 1, 'yellow': 19, 'silver': 1, '-': 172, 'grey': 6, 'blue / white': 1, 'red': 46, 'amber': 2, 'purple': 4, 'black': 23, 'violet': 2, 'hazel': 6, 'brown': 127, 'green': 73, 'green / blue': 1, 'blue': 225}, 'Race': {'Spartoi': 1, 'Luphomoid': 1, 'Metahuman': 2, 'Gungan': 1, 'Kryptonian': 7, 'Zombie': 1, 'Human / Radiation': 11, 'God / Eternal': 14, 'Animal': 4, 'Xenomorph XX121': 1, 'Alien': 7, 'Alpha': 5, 'Yautja': 1, 'Human-Vuldarian': 1, 'Bolovaxian': 1, 'Demon': 6, 'Symbiote': 9, 'Amazon': 2, 'Atlantean': 5, 'Human / Cosmic': 2, 'Human / Altered': 3, 'Kaiju': 1, 'Gorilla': 1, 'Strontian': 1, 'Ungaran': 1, 'Eternal': 2, 'Dathomirian Zabrak': 1, 'Tamaranean': 1, 'Rodian': 1, 'Human-Kree': 2, 'Parademon': 1, 'Saiyan': 2, 'Human-Spartoi': 1, '-': 304, 'Icthyo Sapien': 1, 'Zen-Whoberian': 1, 'Asgardian': 5, 'Clone': 1, 'Human / Clone': 1, 'Mutant': 63, 'Talokite': 1, 'Czarnian': 1, 'Martian': 1, 'Neyaphem': 1, 'Android': 9, 'Vampire': 2, 'New God': 3, 'Cosmic Entity': 4, 'Kakarantharaian': 1, 'Frost Giant': 2, 'Flora Colossus': 1, 'Mutant / Clone': 1, 'Human': 208, 'Demi-God': 2, 'Korugaran': 1, 'Planet': 1, 'Human-Vulcan': 1, \"Yoda's species\": 1, 'Bizarro': 1, 'Cyborg': 11, 'Maiar': 1, 'Inhuman': 4}, 'Hair color': {'Blond': 99, 'Red / White': 1, 'Grey': 5, 'Silver': 4, 'Gold': 1, 'Black / Blue': 1, 'Yellow': 2, 'Brown / Black': 1, 'Orange / White': 1, 'blond': 3, 'Green': 8, 'Brown / White': 4, 'Black': 158, '-': 172, 'White': 23, 'Magenta': 1, 'Brown': 87, 'Red': 51, 'Auburn': 13, 'Blue': 3, 'Strawberry Blond': 7, 'black': 3, 'Purple': 5, 'Indigo': 1, 'Orange': 2, 'No Hair': 75, 'Pink': 1, 'Red / Grey': 1, 'Red / Orange': 1}, 'Publisher': {nan: 15, 'Rebellion': 1, 'HarperCollins': 6, 'Microsoft': 1, 'George Lucas': 14, 'Titan Books': 1, 'Team Epic TV': 5, 'Star Trek': 6, 'Icon Comics': 4, 'Marvel Comics': 388, 'Dark Horse Comics': 18, 'NBC - Heroes': 19, 'Hanna-Barbera': 1, 'J. K. Rowling': 1, 'DC Comics': 215, 'Universal Studios': 1, 'South Park': 1, 'ABC Studios': 4, 'Shueisha': 4, 'SyFy': 5, 'J. R. R. Tolkien': 1, 'Image Comics': 14, 'IDW Publishing': 4, 'Sony Pictures': 2, 'Wildstorm': 3}, 'Skin color': {'silver': 5, 'gold': 3, 'pink': 2, 'yellow': 2, 'grey': 5, 'gray': 1, 'red': 9, 'white': 7, 'blue-white': 1, 'red / black': 1, 'orange': 1, 'orange / white': 1, 'green': 21, 'purple': 3, 'black': 1, 'blue': 9, '-': 662}, 'Alignment': {'neutral': 24, 'good': 496, '-': 7, 'bad': 207}}\n"
     ]
    }
   ],
   "source": [
    "column_counts = dict()\n",
    "\n",
    "# Traverse through the columns in the heroes DataFrame\n",
    "for column_name, series in heroes.iteritems():\n",
    "    # Retrieve the values stored in series in a list form\n",
    "    values = list(series)\n",
    "    category_counts = dict()  \n",
    "    # Traverse through unique categories in values\n",
    "    for category in set(values):\n",
    "        # Count the appearance of category in values\n",
    "        category_counts[category] = values.count(category)\n",
    "    \n",
    "    column_counts[column_name] = category_counts\n",
    "    \n",
    "print(column_counts)"
   ]
  },
  {
   "cell_type": "markdown",
   "metadata": {},
   "source": [
    "###  Basic list comprehensions\n",
    "For this task, you will have to create a bag-of-words representation of the spam email stored in the spam variable (you can explore the content using the shell). Recall that bag-of-words is simply a counter of unique words in a given text. This representation can be further used for text classification, e.g. for spam detection (given enough training examples).\n",
    "\n",
    "We created a small auxiliary function create_word_list() to help you split a string into words, e.g. applying it to 'To infinity... and beyond!' will return ['To', 'infinity', 'and', 'beyond']."
   ]
  },
  {
   "cell_type": "code",
   "execution_count": 37,
   "metadata": {},
   "outputs": [],
   "source": [
    "spam = \"\"\"Dear User,\n",
    "\n",
    "Our Administration Team needs to inform you that you are reaching the storage limit of your Mailbox account.\n",
    "You have to verify your account within the next 24 hours.\n",
    "Otherwise, it will not be possible to use the service.\n",
    "Please, click on the link below to verify your account and continue using our service.\n",
    "\n",
    "Your Administration Team.\"\"\""
   ]
  },
  {
   "cell_type": "code",
   "execution_count": 41,
   "metadata": {},
   "outputs": [
    {
     "name": "stdout",
     "output_type": "stream",
     "text": [
      "you: 3\n",
      "our: 2\n",
      "to: 4\n",
      "account: 2\n",
      "service.: 2\n",
      "verify: 2\n",
      "administration: 2\n",
      "your: 4\n",
      "the: 4\n"
     ]
    }
   ],
   "source": [
    "# Convert the text to lower case and create a word list\n",
    "words = spam.lower().split()\n",
    "\n",
    "# Create a set storing only unique words\n",
    "word_set = set(words)\n",
    "\n",
    "# Create a dictionary that counts each word in the list\n",
    "tuples = [(word, words.count(word)) for word in word_set]\n",
    "word_counter = dict(tuples)\n",
    "\n",
    "# Printing words that appear more than once\n",
    "for (key, value) in word_counter.items():\n",
    "    if value > 1:\n",
    "        print(\"{}: {}\".format(key, value))"
   ]
  },
  {
   "cell_type": "markdown",
   "metadata": {},
   "source": [
    "### Prime number sequence\n",
    "A prime number is a positive number that is divisible only by 1 or itself (e.g. 3, 7, 11 etc.). However, 1 is not a prime number.\n",
    "\n",
    "Your task is, given a list of candidate numbers cands, to filter only prime numbers in a new list primes.\n",
    "\n",
    "But first, you need to create a function is_prime() that returns True if the input number n is prime or False, otherwise. A number is prime if it is not divisible by any integer number from 2 to √n (any number n is not divisible by anything higher than √n)."
   ]
  },
  {
   "cell_type": "code",
   "execution_count": 44,
   "metadata": {},
   "outputs": [],
   "source": [
    "import math"
   ]
  },
  {
   "cell_type": "code",
   "execution_count": 45,
   "metadata": {},
   "outputs": [],
   "source": [
    "cands = [1, 5, 9, 13, 17, 21, 25, 29, 33, 37, 41, 45, 49]"
   ]
  },
  {
   "cell_type": "code",
   "execution_count": 46,
   "metadata": {},
   "outputs": [
    {
     "name": "stdout",
     "output_type": "stream",
     "text": [
      "primes = [5, 13, 17, 29, 37, 41]\n"
     ]
    }
   ],
   "source": [
    "def is_prime(n):\n",
    "    # Define the initial check\n",
    "    if n < 2:\n",
    "        return False\n",
    "    # Define the loop checking if a number is not prime\n",
    "    for i in range(2, int(math.sqrt(n)) + 1):\n",
    "        if n % i == 0:\n",
    "            return False\n",
    "    return True\n",
    "    \n",
    "# Filter prime numbers into the new list\n",
    "primes = [num for num in cands if is_prime(num)]\n",
    "print(\"primes = \" + str(primes))"
   ]
  },
  {
   "cell_type": "markdown",
   "metadata": {},
   "source": [
    "### Coprime number sequence\n",
    "Two numbers a and b are coprime if their Greatest Common Divisor (GCD) is 1. GCD is the largest positive number that divides two given numbers a and b. For example, the numbers 7 and 9 are coprime because their GCD is 1.\n",
    "\n",
    "Given two lists list1 and list2, your task is to create a new list coprimes that contains all the coprime pairs from list1 and list2.\n",
    "\n",
    "But first, you need to write a function for the GCD using the following algorithm:\n",
    "\n",
    "    check if b=0\n",
    "    if true, return a as the GCD between a and b\n",
    "    if false, go to step 2\n",
    "    make a substitution a←b and b←a%b\n",
    "    go back to step 1"
   ]
  },
  {
   "cell_type": "code",
   "execution_count": 48,
   "metadata": {},
   "outputs": [],
   "source": [
    "list1 = [5, 10, 15, 20, 25, 30, 35, 40, 45, 50, 55, 60, 65, 70]\n",
    "list2 = [7, 14, 21, 28, 35, 42, 49, 56, 63, 70, 77, 84, 91, 98]"
   ]
  },
  {
   "cell_type": "code",
   "execution_count": 52,
   "metadata": {},
   "outputs": [],
   "source": [
    "def gcd(a, b):\n",
    "    # Define the while loop as described\n",
    "    while b != 0:\n",
    "        a,b = b, a%b\n",
    "        # OR\n",
    "        # temp_a = a\n",
    "        # a=b\n",
    "        # b=a%b\n",
    "        print(a)\n",
    "        print(b)\n",
    "    # Complete the return statement\n",
    "    return a\n",
    "    \n",
    "# Create a list of tuples defining pairs of coprime numbers\n",
    "#coprimes = [(i,j) for i in list1 for j in list2 if gcd(i,j)==1]\n",
    "#print(coprimes)"
   ]
  },
  {
   "cell_type": "code",
   "execution_count": 53,
   "metadata": {},
   "outputs": [
    {
     "name": "stdout",
     "output_type": "stream",
     "text": [
      "7\n",
      "5\n",
      "5\n",
      "2\n",
      "2\n",
      "1\n",
      "1\n",
      "0\n",
      "1\n"
     ]
    }
   ],
   "source": [
    "print(gcd(5,7))"
   ]
  },
  {
   "cell_type": "code",
   "execution_count": 54,
   "metadata": {},
   "outputs": [
    {
     "data": {
      "text/plain": [
       "5"
      ]
     },
     "execution_count": 54,
     "metadata": {},
     "output_type": "execute_result"
    }
   ],
   "source": [
    "5%7"
   ]
  },
  {
   "cell_type": "markdown",
   "metadata": {},
   "source": [
    "### Combining iterable objects\n",
    "You are given the list wlist that contains lists of different words. \n",
    "\n",
    "Your task is to create a new list of tuples, where each tuple contains a list from the wlist, its length, and the longest word. If there is ambiguity in choosing the longest word, the word with the lowest index in the considered list should be taken into account."
   ]
  },
  {
   "cell_type": "code",
   "execution_count": 55,
   "metadata": {},
   "outputs": [],
   "source": [
    "wlist = [['Python', 'creativity', 'universe'], ['interview', 'study', 'job', 'university', 'lecture'], ['task', 'objective', 'aim', 'subject', 'programming', 'test', 'research']]"
   ]
  },
  {
   "cell_type": "code",
   "execution_count": 60,
   "metadata": {},
   "outputs": [
    {
     "name": "stdout",
     "output_type": "stream",
     "text": [
      "(['Python', 'creativity', 'universe'], 3, 'creativity')\n",
      "(['interview', 'study', 'job', 'university', 'lecture'], 5, 'university')\n",
      "(['task', 'objective', 'aim', 'subject', 'programming', 'test', 'research'], 7, 'programming')\n"
     ]
    }
   ],
   "source": [
    "# Define a function searching for the longest word\n",
    "def get_longest_word(words):\n",
    "    longest_word = ''\n",
    "    for word in words:\n",
    "        if len(word) > len(longest_word):\n",
    "            longest_word = word\n",
    "    return longest_word,len(longest_word)\n",
    "\n",
    "# Create lists with the lengths and longest words\n",
    "lengths = [len(item) for item in wlist]\n",
    "words = [get_longest_word(item) for item in wlist]\n",
    "\n",
    "# Combine the resulting data into one iterable object\n",
    "for item in zip(wlist,lengths,words):\n",
    "    print(item)"
   ]
  },
  {
   "cell_type": "code",
   "execution_count": 59,
   "metadata": {},
   "outputs": [
    {
     "name": "stdout",
     "output_type": "stream",
     "text": [
      "['Python', 'creativity', 'universe']\n",
      "['interview', 'study', 'job', 'university', 'lecture']\n",
      "['task', 'objective', 'aim', 'subject', 'programming', 'test', 'research']\n"
     ]
    }
   ],
   "source": [
    "for word in wlist:\n",
    "    print(word)"
   ]
  },
  {
   "cell_type": "markdown",
   "metadata": {},
   "source": [
    "#### An alternate method:\n",
    "    First, put the same calculations into one list comprehension, which should result in a list of tuples. \n",
    "    Second, apply the unzip operation to generate two distinct tuples, resembling lengths and words"
   ]
  },
  {
   "cell_type": "code",
   "execution_count": 61,
   "metadata": {},
   "outputs": [
    {
     "name": "stdout",
     "output_type": "stream",
     "text": [
      "(['Python', 'creativity', 'universe'], 3, 'creativity')\n",
      "(['interview', 'study', 'job', 'university', 'lecture'], 5, 'university')\n",
      "(['task', 'objective', 'aim', 'subject', 'programming', 'test', 'research'], 7, 'programming')\n"
     ]
    }
   ],
   "source": [
    "# Create a list of tuples with lengths and longest words\n",
    "result = [\n",
    "    (len(item), get_longest_word(item)) for item in wlist\n",
    "]\n",
    "\n",
    "# Unzip the result    \n",
    "lengths, words = zip(*result)\n",
    "\n",
    "for item in zip(wlist, lengths, words):\n",
    "    print(item)"
   ]
  },
  {
   "cell_type": "markdown",
   "metadata": {},
   "source": [
    "### Creating a DataFrame\n",
    "Create a DataFrame from a dictionary supplied by a zip object. You have to take each single word stored in the list wlist and calculate its length. This data should be stored in two separate tuples that are supplied to the zip() initializer. The resulting zip object should be used to construct a DataFrame where the first column will store words and the second column will store their lengths."
   ]
  },
  {
   "cell_type": "code",
   "execution_count": 2,
   "metadata": {},
   "outputs": [],
   "source": [
    "wlist = [['Python', 'creativity', 'universe'], ['interview', 'study', 'job', 'university', 'lecture'], ['task', 'objective', 'aim', 'subject', 'programming', 'test', 'research']]"
   ]
  },
  {
   "cell_type": "code",
   "execution_count": 9,
   "metadata": {},
   "outputs": [
    {
     "name": "stdout",
     "output_type": "stream",
     "text": [
      "           word  length\n",
      "0        Python       6\n",
      "1    creativity      10\n",
      "2      universe       8\n",
      "3     interview       9\n",
      "4         study       5\n",
      "5           job       3\n",
      "6    university      10\n",
      "7       lecture       7\n",
      "8          task       4\n",
      "9     objective       9\n",
      "10          aim       3\n",
      "11      subject       7\n",
      "12  programming      11\n",
      "13         test       4\n",
      "14     research       8\n"
     ]
    }
   ],
   "source": [
    "# Create a list of tuples with words and their lengths\n",
    "word_lengths = [\n",
    "    (item, len(item)) for items in wlist for item in items\n",
    "]\n",
    "\n",
    "# Unwrap the word_lengths\n",
    "words, lengths = zip(*word_lengths)\n",
    "\n",
    "# Create a zip object\n",
    "col_names = ['word', 'length']\n",
    "result = zip(col_names, [words, lengths])\n",
    "\n",
    "\n",
    "# Convert the result to a dictionary and build a DataFrame\n",
    "data_frame = pd.DataFrame(dict(result))\n",
    "print(data_frame)"
   ]
  },
  {
   "cell_type": "markdown",
   "metadata": {},
   "source": [
    "### Shift a string\n",
    "You're going to create a generator that, given a string, produces a sequence of constituent characters shifted by a specified number of positions. For example, the string 'sushi' will result in the sequence 'h', 'i', 's', 'u', 's' if we use the shift of 2 positions to the right. If we use the shift of 2 positions to the left (or simply, -2), the resulting sequence will be 's', 'h', 'i', 's', 'u'.\n",
    "\n",
    "Tip: the % operator might be helpful when indexing your string. Applying it to a positive or negative number gives a non-negative remainder, which can be helpful when shifting your index. For example:\n",
    "\n",
    "    -2 % 10 = 8 \n",
    "    -1 % 10 = 9\n",
    "    0 % 10 = 0\n",
    "    1 % 10 = 1\n",
    "    2 % 10 = 2"
   ]
  },
  {
   "cell_type": "code",
   "execution_count": 22,
   "metadata": {},
   "outputs": [
    {
     "name": "stdout",
     "output_type": "stream",
     "text": [
      "5\n"
     ]
    },
    {
     "ename": "SyntaxError",
     "evalue": "'yield' outside function (<ipython-input-22-4aea7e2ac87e>, line 5)",
     "output_type": "error",
     "traceback": [
      "\u001b[1;36m  File \u001b[1;32m\"<ipython-input-22-4aea7e2ac87e>\"\u001b[1;36m, line \u001b[1;32m5\u001b[0m\n\u001b[1;33m    yield string[(idx-5) % len_string]\u001b[0m\n\u001b[1;37m    ^\u001b[0m\n\u001b[1;31mSyntaxError\u001b[0m\u001b[1;31m:\u001b[0m 'yield' outside function\n"
     ]
    }
   ],
   "source": [
    "string = 'sushi'\n",
    "len_string = len(string)\n",
    "print(len_string)\n",
    "for idx in range(0,len_string):\n",
    "    yield string[(idx-5) % len_string]"
   ]
  },
  {
   "cell_type": "code",
   "execution_count": 27,
   "metadata": {},
   "outputs": [
    {
     "name": "stdout",
     "output_type": "stream",
     "text": [
      "aCampDat\n"
     ]
    }
   ],
   "source": [
    "def shift_string(string, shift):\n",
    "    len_string = len(string)\n",
    "    # Define a for loop with the yield statement\n",
    "    for idx in range(len_string):\n",
    "        yield string[(idx - shift) % len_string]\n",
    "\n",
    "# Create a generator\n",
    "gen = shift_string('DataCamp', 5)\n",
    "\n",
    "# Create a new string using the generator and print it out\n",
    "string_shifted = ''.join(gen)\n",
    "print(string_shifted)"
   ]
  },
  {
   "cell_type": "markdown",
   "metadata": {},
   "source": [
    "### Throw a dice\n",
    "Let's create an infinite generator! Your task is to define the simulate_dice_throws() generator. It generates the outcomes of a 6-sided dice tosses in the form of a dictionary out. Each key is a possible outcome (1, 2, 3, 4, 5, 6). Each value is a list: the first value is the amount of realizations of an outcome and the second, the ratio of realizations to the total number of tosses total.\n",
    "\n",
    "Tip: use the randint() function from the random module. It generates a random integer in the specified interval (e.g. randint(1, 2) can be 1 or 2)."
   ]
  },
  {
   "cell_type": "code",
   "execution_count": 39,
   "metadata": {},
   "outputs": [
    {
     "name": "stdout",
     "output_type": "stream",
     "text": [
      "1: {1: [0, 0], 2: [0, 0], 3: [0, 0], 4: [0, 0], 5: [1, 1.0], 6: [0, 0]}\n",
      "2: {1: [0, 0], 2: [0, 0], 3: [0, 0], 4: [0, 0], 5: [1, 1.0], 6: [1, 0.5]}\n",
      "3: {1: [0, 0], 2: [0, 0], 3: [0, 0], 4: [0, 0], 5: [2, 0.67], 6: [1, 0.5]}\n",
      "4: {1: [0, 0], 2: [0, 0], 3: [0, 0], 4: [0, 0], 5: [3, 0.75], 6: [1, 0.5]}\n",
      "5: {1: [0, 0], 2: [1, 0.2], 3: [0, 0], 4: [0, 0], 5: [3, 0.75], 6: [1, 0.5]}\n",
      "6: {1: [0, 0], 2: [2, 0.33], 3: [0, 0], 4: [0, 0], 5: [3, 0.75], 6: [1, 0.5]}\n",
      "7: {1: [0, 0], 2: [3, 0.43], 3: [0, 0], 4: [0, 0], 5: [3, 0.75], 6: [1, 0.5]}\n",
      "8: {1: [0, 0], 2: [3, 0.43], 3: [0, 0], 4: [0, 0], 5: [3, 0.75], 6: [2, 0.25]}\n",
      "9: {1: [0, 0], 2: [3, 0.43], 3: [1, 0.11], 4: [0, 0], 5: [3, 0.75], 6: [2, 0.25]}\n"
     ]
    }
   ],
   "source": [
    "import random\n",
    "\n",
    "def simulate_dice_throws():\n",
    "    total, out = 0, dict([(i, [0, 0]) for i in range(1, 7)])\n",
    "    while True:\n",
    "        # Simulate a single toss to get a new number\n",
    "        num = random.randint(1, 6)\n",
    "        total += 1\n",
    "        # Update the number and the ratio of realizations\n",
    "        out[num][0] = out[num][0] + 1\n",
    "        out[num][1] = round(out[num][0]/total, 2)\n",
    "        # Yield the updated dictionary\n",
    "        yield out\n",
    "\n",
    "# Create the generator and simulate 10 tosses\n",
    "dice_simulator = simulate_dice_throws()\n",
    "for i in range(1, 10):\n",
    "    print(str(i) + ': ' + str(next(dice_simulator)))"
   ]
  },
  {
   "cell_type": "markdown",
   "metadata": {},
   "source": [
    "## Generator Comprehension:"
   ]
  },
  {
   "cell_type": "markdown",
   "metadata": {},
   "source": [
    "### Rewrite the following functions as generator comprehension:"
   ]
  },
  {
   "cell_type": "code",
   "execution_count": 42,
   "metadata": {},
   "outputs": [
    {
     "name": "stdout",
     "output_type": "stream",
     "text": [
      "(0, 0)\n",
      "(1, 1)\n",
      "(4, 4)\n",
      "(9, 9)\n",
      "(16, 16)\n",
      "(25, 25)\n",
      "(36, 36)\n",
      "(49, 49)\n",
      "(64, 64)\n",
      "(81, 81)\n"
     ]
    }
   ],
   "source": [
    "def func1(n):\n",
    "    for i in range(0, n):\n",
    "        yield i**2\n",
    "\n",
    "\n",
    "# Task: rewrite func1() as generator comprehension with n=10\n",
    "\n",
    "# Solution:\n",
    "gen = (i**2 for i in range(10))\n",
    "\n",
    "# check whether the func1() and gen gives same output\n",
    "for item in zip(gen, func1(10)):\n",
    "    print(item)"
   ]
  },
  {
   "cell_type": "code",
   "execution_count": 43,
   "metadata": {},
   "outputs": [
    {
     "name": "stdout",
     "output_type": "stream",
     "text": [
      "(0, 0)\n",
      "(4, 4)\n",
      "(8, 8)\n",
      "(12, 12)\n",
      "(16, 16)\n",
      "(20, 20)\n",
      "(24, 24)\n",
      "(28, 28)\n",
      "(32, 32)\n",
      "(36, 36)\n"
     ]
    }
   ],
   "source": [
    "def func2(n):\n",
    "    for i in range(0, n):\n",
    "        if i%2 == 0:\n",
    "            yield 2*i\n",
    "            \n",
    "            \n",
    "# Task: rewrite func2() as generator comprehension with n=20\n",
    "\n",
    "# Solution:\n",
    "gen = (2*i for i in range(20) if i%2==0)\n",
    "\n",
    "# check whether the func1() and gen gives same output\n",
    "for item in zip(gen, func2(20)):\n",
    "    print(item)"
   ]
  },
  {
   "cell_type": "code",
   "execution_count": 49,
   "metadata": {},
   "outputs": [
    {
     "name": "stdout",
     "output_type": "stream",
     "text": [
      "(((0, 0), 0), ((0, 0), 0))\n",
      "(((0, 4), 4), ((0, 4), 4))\n",
      "(((0, 8), 8), ((0, 8), 8))\n",
      "(((0, 12), 12), ((0, 12), 12))\n",
      "(((0, 16), 16), ((0, 16), 16))\n",
      "(((1, 0), 1), ((1, 0), 1))\n",
      "(((1, 4), 5), ((1, 4), 5))\n",
      "(((1, 8), 9), ((1, 8), 9))\n",
      "(((1, 12), 13), ((1, 12), 13))\n",
      "(((1, 16), 17), ((1, 16), 17))\n",
      "(((4, 0), 4), ((4, 0), 4))\n",
      "(((4, 4), 8), ((4, 4), 8))\n",
      "(((4, 8), 12), ((4, 8), 12))\n",
      "(((4, 12), 16), ((4, 12), 16))\n",
      "(((4, 16), 20), ((4, 16), 20))\n",
      "(((9, 0), 9), ((9, 0), 9))\n",
      "(((9, 4), 13), ((9, 4), 13))\n",
      "(((9, 8), 17), ((9, 8), 17))\n",
      "(((9, 12), 21), ((9, 12), 21))\n",
      "(((9, 16), 25), ((9, 16), 25))\n",
      "(((16, 0), 16), ((16, 0), 16))\n",
      "(((16, 4), 20), ((16, 4), 20))\n",
      "(((16, 8), 24), ((16, 8), 24))\n",
      "(((16, 12), 28), ((16, 12), 28))\n",
      "(((16, 16), 32), ((16, 16), 32))\n",
      "(((25, 0), 25), ((25, 0), 25))\n",
      "(((25, 4), 29), ((25, 4), 29))\n",
      "(((25, 8), 33), ((25, 8), 33))\n",
      "(((25, 12), 37), ((25, 12), 37))\n",
      "(((25, 16), 41), ((25, 16), 41))\n",
      "(((36, 0), 36), ((36, 0), 36))\n",
      "(((36, 4), 40), ((36, 4), 40))\n",
      "(((36, 8), 44), ((36, 8), 44))\n",
      "(((36, 12), 48), ((36, 12), 48))\n",
      "(((36, 16), 52), ((36, 16), 52))\n",
      "(((49, 0), 49), ((49, 0), 49))\n",
      "(((49, 4), 53), ((49, 4), 53))\n",
      "(((49, 8), 57), ((49, 8), 57))\n",
      "(((49, 12), 61), ((49, 12), 61))\n",
      "(((49, 16), 65), ((49, 16), 65))\n"
     ]
    }
   ],
   "source": [
    "def func3(n, m):\n",
    "    for i in func1(n):\n",
    "        for j in func2(m):\n",
    "            yield ((i, j), i + j)\n",
    "            \n",
    "            \n",
    "# Task: rewrite func3() as generator comprehension with n=8, m=20\n",
    "\n",
    "# Solution:\n",
    "gen = (((i,j),i+j) for i in (i**2 for i in range(8)) for j in (2*j for j in range(10) if j%2==0))\n",
    "\n",
    "# check whether the func1() and gen gives same output\n",
    "for item in zip(gen, func3(8, 10)):\n",
    "    print(item)"
   ]
  },
  {
   "cell_type": "code",
   "execution_count": null,
   "metadata": {},
   "outputs": [],
   "source": []
  },
  {
   "cell_type": "code",
   "execution_count": null,
   "metadata": {},
   "outputs": [],
   "source": []
  }
 ],
 "metadata": {
  "kernelspec": {
   "display_name": "Python 3",
   "language": "python",
   "name": "python3"
  },
  "language_info": {
   "codemirror_mode": {
    "name": "ipython",
    "version": 3
   },
   "file_extension": ".py",
   "mimetype": "text/x-python",
   "name": "python",
   "nbconvert_exporter": "python",
   "pygments_lexer": "ipython3",
   "version": "3.7.3"
  }
 },
 "nbformat": 4,
 "nbformat_minor": 2
}
