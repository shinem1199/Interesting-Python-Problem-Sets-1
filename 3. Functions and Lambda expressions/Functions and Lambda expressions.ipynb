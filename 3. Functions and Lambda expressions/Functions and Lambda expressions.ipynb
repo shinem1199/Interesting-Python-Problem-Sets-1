{
 "cells": [
  {
   "cell_type": "code",
   "execution_count": 1,
   "metadata": {},
   "outputs": [],
   "source": [
    "import pandas as pd\n",
    "import numpy as np"
   ]
  },
  {
   "cell_type": "markdown",
   "metadata": {},
   "source": [
    "### Positional arguments of variable size\n",
    "Your task is to define the function sort_types(). It takes a variable number of positional arguments and checks if each argument is a number or a string. The checked item is inserted afterwards either in the nums or strings list. Eventually, the function returns a tuple containing these lists."
   ]
  },
  {
   "cell_type": "code",
   "execution_count": 2,
   "metadata": {},
   "outputs": [
    {
     "name": "stdout",
     "output_type": "stream",
     "text": [
      "([1.57, 4, 5, 0.89], ['car', 'hat', 'tree'])\n"
     ]
    }
   ],
   "source": [
    "# Define the function with an arbitrary number of arguments\n",
    "def sort_types(*args):\n",
    "    nums, strings = [], []    \n",
    "    for arg in args:\n",
    "        # Check if 'arg' is a number and add it to 'nums'\n",
    "        if isinstance(arg,(int,float)):\n",
    "            nums.append(arg)\n",
    "        # Check if 'arg' is a string and add it to 'strings'\n",
    "        elif isinstance(arg,str):\n",
    "            strings.append(arg)\n",
    "    \n",
    "    return (nums, strings)\n",
    "            \n",
    "print(sort_types(1.57, 'car', 'hat', 4, 5, 'tree', 0.89))"
   ]
  },
  {
   "cell_type": "markdown",
   "metadata": {},
   "source": [
    "### Keyword arguments of variable size\n",
    "\n",
    "Your task is to define the function key_types().\n",
    "It takes a variable number of keyword arguments and returns a new dictionary: the keys are unique object types of arguments passed to the key_types() function and the associated values represent lists. Each list contains argument names that follow the type defined as a key (e.g. calling the key_types(val1='a', val2='b', val3=1) results in {<class 'int'>: ['val3'], <class 'str'>: ['val1', 'val2']}"
   ]
  },
  {
   "cell_type": "code",
   "execution_count": 4,
   "metadata": {},
   "outputs": [
    {
     "name": "stdout",
     "output_type": "stream",
     "text": [
      "{<class 'int'>: ['a', 'b'], <class 'tuple'>: ['c'], <class 'float'>: ['d', 'e']}\n"
     ]
    }
   ],
   "source": [
    "# Define the function with an arbitrary number of arguments\n",
    "def key_types(**kwargs):\n",
    "    dict_type = dict()\n",
    "    # Iterate over key value pairs\n",
    "    for key, value in kwargs.items():\n",
    "        # Update a list associated with a key\n",
    "        if type(value) in dict_type:\n",
    "            dict_type[type(value)].append(key)\n",
    "        else:\n",
    "            dict_type[type(value)] = [key]\n",
    "            \n",
    "    return dict_type\n",
    "  \n",
    "res = key_types(a=1, b=2, c=(1, 2), d=3.1, e=4.2)\n",
    "print(res)"
   ]
  },
  {
   "cell_type": "markdown",
   "metadata": {},
   "source": [
    "### Combining argument types\n",
    "Your task is to define the sort_all_types() function. It takes positional and keyword arguments of variable size, finds all the numbers and strings contained within them, and concatenates type-wise the results. Use the sort_types() function you defined before. It takes a positional argument of variable size and returns a tuple containing a list of numbers and a list of strings."
   ]
  },
  {
   "cell_type": "code",
   "execution_count": 5,
   "metadata": {},
   "outputs": [
    {
     "name": "stdout",
     "output_type": "stream",
     "text": [
      "([1, 2.0, 5.1, 0.0, 5], ['dog', 'cat'])\n"
     ]
    }
   ],
   "source": [
    "# Define the arguments passed to the function\n",
    "def sort_all_types(*args,**kwargs):\n",
    "\n",
    "    # Find all the numbers and strings in the 1st argument\n",
    "    nums1, strings1 = sort_types(*args)\n",
    "    \n",
    "    # Find all the numbers and strings in the 2nd argument\n",
    "    nums2, strings2 = sort_types(*kwargs.values())\n",
    "    \n",
    "    return (nums1 + nums2, strings1 + strings2)\n",
    "  \n",
    "res = sort_all_types(1, 2.0, 'dog', 5.1, num1 = 0.0, num2 = 5, str1 = 'cat')\n",
    "print(res)"
   ]
  },
  {
   "cell_type": "markdown",
   "metadata": {},
   "source": [
    "### Define lambda expressions for below:"
   ]
  },
  {
   "cell_type": "code",
   "execution_count": 7,
   "metadata": {},
   "outputs": [
    {
     "name": "stdout",
     "output_type": "stream",
     "text": [
      "4.0\n",
      "0\n"
     ]
    }
   ],
   "source": [
    "### Take x and return x2 if x>0 and 0, otherwise\n",
    "\n",
    "squared_no_negatives = lambda x: x**2 if x>0 else 0\n",
    "print(squared_no_negatives(2.0))\n",
    "print(squared_no_negatives(-1))"
   ]
  },
  {
   "cell_type": "code",
   "execution_count": 12,
   "metadata": {},
   "outputs": [
    {
     "name": "stdout",
     "output_type": "stream",
     "text": [
      "[2, 4, 6, 8, 10]\n"
     ]
    }
   ],
   "source": [
    "### Take a list of integers nums and leave only even numbers.\n",
    "\n",
    "get_even = lambda nums: [num for num in nums if num%2==0]\n",
    "print(get_even([1, 2, 3, 4, 5, 6, 7, 8, 9, 10]))"
   ]
  },
  {
   "cell_type": "code",
   "execution_count": 16,
   "metadata": {},
   "outputs": [
    {
     "name": "stdout",
     "output_type": "stream",
     "text": [
      "['a', 'p']\n"
     ]
    }
   ],
   "source": [
    "### Take strings s1, s2 and list their common characters\n",
    "common_chars = lambda s1,s2 : list(set(s for s in s1 if s in s2))\n",
    "print(common_chars('pizza', 'pasta'))"
   ]
  },
  {
   "cell_type": "markdown",
   "metadata": {},
   "source": [
    "### Convert these three normally defined functions into lambda expressions:"
   ]
  },
  {
   "cell_type": "code",
   "execution_count": 17,
   "metadata": {},
   "outputs": [
    {
     "name": "stdout",
     "output_type": "stream",
     "text": [
      "5, 5\n",
      "5, 5\n"
     ]
    }
   ],
   "source": [
    "# Returns a bigger of the two numbers\n",
    "def func1(x, y):\n",
    "    if x >= y:\n",
    "        return x\n",
    "\n",
    "    return y\n",
    "\n",
    "\n",
    "# Convert func1() to a lambda expression\n",
    "lambda1 = lambda x,y: x if x>=y else y\n",
    "print(str(func1(5, 4)) + ', ' + str(lambda1(5, 4)))\n",
    "print(str(func1(4, 5)) + ', ' + str(lambda1(4, 5)))"
   ]
  },
  {
   "cell_type": "code",
   "execution_count": 45,
   "metadata": {},
   "outputs": [
    {
     "name": "stdout",
     "output_type": "stream",
     "text": [
      "{'a': 3, 't': 1, 'C': 1, 'D': 1, 'm': 1, 'p': 1}\n",
      "{'a': 3, 't': 1, 'C': 1, 'D': 1, 'm': 1, 'p': 1}\n"
     ]
    }
   ],
   "source": [
    "# Returns a dictionary counting charaters in a string\n",
    "def func2(s):\n",
    "    d = dict()\n",
    "    for c in set(s):\n",
    "        d[c] = s.count(c)\n",
    "\n",
    "    return d\n",
    "\n",
    "# Convert func2() to a lambda expression\n",
    "lambda2 = lambda s: dict([(c,s.count(c)) for c in set(s)])\n",
    "print(func2('DataCamp'))\n",
    "print(lambda2('DataCamp'))"
   ]
  },
  {
   "cell_type": "code",
   "execution_count": 55,
   "metadata": {},
   "outputs": [],
   "source": [
    "# print(sorted(lambda2('DataCamp').items())[0])"
   ]
  },
  {
   "cell_type": "code",
   "execution_count": 54,
   "metadata": {},
   "outputs": [
    {
     "name": "stdout",
     "output_type": "stream",
     "text": [
      "5.0, 5.0\n",
      "7.0710678118654755, 7.0710678118654755\n"
     ]
    }
   ],
   "source": [
    "import math\n",
    "# Returns a squared root of a sum of squared numbers\n",
    "def func3(*nums):\n",
    "    squared_nums = [n**2 for n in nums]\n",
    "    sum_squared_nums = sum(squared_nums)\n",
    "\n",
    "    return math.sqrt(sum_squared_nums)\n",
    "\n",
    "\n",
    "# Convert func3() to a lambda expression\n",
    "lambda3 = lambda *nums : math.sqrt(sum([n**2 for n in nums]))\n",
    "print(str(func3(3, 4)) + ', ' + str(lambda3(3, 4)))\n",
    "print(str(func3(3, 4, 5)) + ', ' + str(lambda3(3, 4, 5)))"
   ]
  },
  {
   "cell_type": "markdown",
   "metadata": {},
   "source": [
    "### Using a lambda expression as an argument\n",
    "Let's pass lambda expressions as arguments to functions. You will deal with the list .sort() method. By default, it sorts numbers in increasing order. Characters and strings are sorted alphabetically. The method can be defined as .sort(key=function). Here, key defines a mapping of each item in the considered list to a sortable object (e.g. a number or a character). Thus, the items in a list are sorted the way sortable objects are.\n",
    "\n",
    "Your task is to define different ways to sort the list words using the key argument with a lambda expression."
   ]
  },
  {
   "cell_type": "code",
   "execution_count": 57,
   "metadata": {},
   "outputs": [],
   "source": [
    "words = ['car','truck','interview','tequila','time','cell','chicken','leader','government','transaction','country','bag','call',\n",
    "'area','service','phone','advantage','job','shape','item','atmosphere','height','creature','plane','unit']"
   ]
  },
  {
   "cell_type": "code",
   "execution_count": 67,
   "metadata": {},
   "outputs": [
    {
     "name": "stdout",
     "output_type": "stream",
     "text": [
      "['car', 'bag', 'job', 'time', 'cell', 'call', 'area', 'item', 'unit', 'truck', 'phone', 'shape', 'plane', 'leader', 'height', 'tequila', 'chicken', 'country', 'service', 'creature', 'interview', 'advantage', 'government', 'atmosphere', 'transaction']\n"
     ]
    }
   ],
   "source": [
    "# Sort words by the string length\n",
    "words.sort(key=lambda s: len(s))\n",
    "print(words)"
   ]
  },
  {
   "cell_type": "code",
   "execution_count": 68,
   "metadata": {},
   "outputs": [
    {
     "name": "stdout",
     "output_type": "stream",
     "text": [
      "['area', 'tequila', 'job', 'time', 'phone', 'shape', 'plane', 'service', 'creature', 'advantage', 'atmosphere', 'bag', 'truck', 'cell', 'call', 'item', 'chicken', 'transaction', 'car', 'leader', 'unit', 'height', 'government', 'interview', 'country']\n"
     ]
    }
   ],
   "source": [
    "# Sort words by the last character in a string\n",
    "words.sort(key= lambda s: s[-1])\n",
    "print(words)"
   ]
  },
  {
   "cell_type": "code",
   "execution_count": 72,
   "metadata": {},
   "outputs": [
    {
     "name": "stdout",
     "output_type": "stream",
     "text": [
      "['item', 'time', 'phone', 'height', 'government', 'interview', 'unit', 'leader', 'shape', 'plane', 'atmosphere', 'job', 'service', 'cell', 'tequila', 'truck', 'country', 'call', 'car', 'bag', 'chicken', 'area', 'creature', 'transaction', 'advantage']\n"
     ]
    }
   ],
   "source": [
    "# Sort words by the total amount of certain characters a, b, and c \n",
    "# (e.g., the word 'cabana' has 3 a's, 1 b, and 1 c; in total, 5)\n",
    "words.sort(key= lambda s : s.count('a') + s.count('b') + s.count('c'))\n",
    "print(words)"
   ]
  },
  {
   "cell_type": "markdown",
   "metadata": {},
   "source": [
    "### The map() function\n",
    "\n",
    "Your task is to define your own my_zip() function with *args depicting a variable number of Iterables.\n",
    "\n",
    "    Step:1 Retrieve Iterable lengths from args using map() and find the minimal length.\n",
    "    Step:2 Append new items to the tuple_list; each item is a list with elements from Iterables in args with the same index."
   ]
  },
  {
   "cell_type": "code",
   "execution_count": 75,
   "metadata": {},
   "outputs": [
    {
     "name": "stdout",
     "output_type": "stream",
     "text": [
      "[(1, 'a', 'D'), (2, 'b', 'a'), (3, 'c', 't')]\n"
     ]
    }
   ],
   "source": [
    "def my_zip(*args):\n",
    "    \n",
    "    # Retrieve Iterable lengths and find the minimal length\n",
    "    lengths = list(map(len,args))\n",
    "    min_length = min(lengths)\n",
    "    \n",
    "\n",
    "    tuple_list = []\n",
    "    for i in range(0, min_length):\n",
    "        # Append new items to the 'tuple_list'\n",
    "        tuple_list.append(tuple(map(lambda x : x[i],args)))\n",
    "\n",
    "    return tuple_list\n",
    "\n",
    "result = my_zip([1, 2, 3], ['a', 'b', 'c', 'd'], 'DataCamp')\n",
    "print(result)"
   ]
  },
  {
   "cell_type": "markdown",
   "metadata": {},
   "source": [
    "### The filter() function\n",
    "\n",
    "You will be given three corresponding tasks you have to complete. Use lambda expressions!"
   ]
  },
  {
   "cell_type": "code",
   "execution_count": null,
   "metadata": {},
   "outputs": [],
   "source": []
  },
  {
   "cell_type": "code",
   "execution_count": 78,
   "metadata": {},
   "outputs": [],
   "source": [
    "nums = list(range(0,101))"
   ]
  },
  {
   "cell_type": "code",
   "execution_count": 79,
   "metadata": {},
   "outputs": [
    {
     "name": "stdout",
     "output_type": "stream",
     "text": [
      "[0, 1, 2, 3, 4, 5, 6, 7, 8, 9, 10, 11, 12, 13, 14, 15, 16, 17, 18, 19, 20, 21, 22, 23, 24, 25, 26, 27, 28, 29, 30, 31, 32, 33, 34, 35, 36, 37, 38, 39, 40, 41, 42, 43, 44, 45, 46, 47, 48, 49, 50, 51, 52, 53, 54, 55, 56, 57, 58, 59, 60, 61, 62, 63, 64, 65, 66, 67, 68, 69, 70, 71, 72, 73, 74, 75, 76, 77, 78, 79, 80, 81, 82, 83, 84, 85, 86, 87, 88, 89, 90, 91, 92, 93, 94, 95, 96, 97, 98, 99, 100]\n",
      "[1, 2, 4, 7, 8, 11, 13, 14, 16, 17, 19, 22, 23, 26, 28, 29, 31, 32, 34, 37, 38, 41, 43, 44, 46, 47, 49, 52, 53, 56, 58, 59, 61, 62, 64, 67, 68, 71, 73, 74, 76, 77, 79, 82, 83, 86, 88, 89, 91, 92, 94, 97, 98]\n"
     ]
    }
   ],
   "source": [
    "# Exclude all the numbers from nums divisible by 3 or 5\n",
    "print(nums)\n",
    "fnums = filter(lambda x: x % 3 != 0 and x % 5 != 0, nums)\n",
    "print(list(fnums))"
   ]
  },
  {
   "cell_type": "code",
   "execution_count": 80,
   "metadata": {},
   "outputs": [],
   "source": [
    "string = 'Ordinary Least Squares'"
   ]
  },
  {
   "cell_type": "code",
   "execution_count": 82,
   "metadata": {},
   "outputs": [
    {
     "name": "stdout",
     "output_type": "stream",
     "text": [
      "Ordinary Least Squares\n",
      "rdnry Lst Sqrs\n"
     ]
    }
   ],
   "source": [
    "# Return the string without its vowels\n",
    "print(string)\n",
    "vowels = ['a','e','i','o','u','A','E','I','O','U']\n",
    "fstring = filter(lambda x: x not in vowels,string)\n",
    "print(''.join(fstring))"
   ]
  },
  {
   "cell_type": "code",
   "execution_count": 85,
   "metadata": {},
   "outputs": [],
   "source": [
    "spells = ['riddikulus','obliviate','sectumsempra','avada kedavra','alohomora','lumos','expelliarmus','expecto patronum']"
   ]
  },
  {
   "cell_type": "code",
   "execution_count": 89,
   "metadata": {},
   "outputs": [
    {
     "name": "stdout",
     "output_type": "stream",
     "text": [
      "['riddikulus', 'obliviate', 'sectumsempra', 'avada kedavra', 'alohomora', 'lumos', 'expelliarmus', 'expecto patronum']\n",
      "['avada kedavra']\n"
     ]
    }
   ],
   "source": [
    "# Filter all the spells in spells with more than two 'a's\n",
    "print(spells)\n",
    "fspells = filter(lambda x: x.count('a')>2,spells)\n",
    "print(list(fspells))"
   ]
  },
  {
   "cell_type": "markdown",
   "metadata": {},
   "source": [
    "### The reduce() function\n",
    "import reduce from functools module"
   ]
  },
  {
   "cell_type": "code",
   "execution_count": 91,
   "metadata": {},
   "outputs": [],
   "source": [
    "from functools import reduce"
   ]
  },
  {
   "cell_type": "code",
   "execution_count": 94,
   "metadata": {},
   "outputs": [
    {
     "name": "stdout",
     "output_type": "stream",
     "text": [
      "Inverted string = pmaCataD\n"
     ]
    }
   ],
   "source": [
    "# Reverse a string using reduce()\n",
    "string = 'DataCamp'\n",
    "inv_string = reduce(lambda x,y: y+x , string)\n",
    "print('Inverted string = ' + inv_string)"
   ]
  },
  {
   "cell_type": "code",
   "execution_count": 95,
   "metadata": {},
   "outputs": [
    {
     "name": "stdout",
     "output_type": "stream",
     "text": [
      "common items = {9, 4}\n"
     ]
    }
   ],
   "source": [
    "# Find common items shared among all the sets in sets\n",
    "sets = [{1, 4, 8, 9}, {2, 4, 6, 9, 10, 8}, {9, 0, 1, 2, 4}]\n",
    "common_items = reduce(lambda x,y : x.intersection(y),sets)\n",
    "print('common items = ' + str(common_items))"
   ]
  },
  {
   "cell_type": "code",
   "execution_count": 96,
   "metadata": {},
   "outputs": [
    {
     "name": "stdout",
     "output_type": "stream",
     "text": [
      "[5, 6, 0, 1] is converted to 5601\n"
     ]
    }
   ],
   "source": [
    "# Convert a number sequence into a single number\n",
    "nums = [5, 6, 0, 1]\n",
    "num = reduce(lambda x, y : str(x)+str(y) ,nums)\n",
    "print(str(nums) + ' is converted to ' + str(num))"
   ]
  },
  {
   "cell_type": "markdown",
   "metadata": {},
   "source": [
    "### Recursion:\n",
    "    \n",
    "Calculate the number of function calls\n",
    "Let's consider a classic example of recursion – the Fibonacci sequence, represented by non-negative integers starting from 0 with each element F(n) equals the sum of the preceding two: 0, 1, 1, 2, 3, 5, 8, 13, 21, .... You are given a function that returns a tuple with the n-th element of the sequence and the amount of calls to fib() used:\n",
    "\n",
    "\n",
    "How many calls to fib() are needed to calculate the 15th and 20th elements of the sequence?"
   ]
  },
  {
   "cell_type": "code",
   "execution_count": 108,
   "metadata": {},
   "outputs": [],
   "source": [
    "def fib(n):\n",
    "    \n",
    "    if n < 2:\n",
    "        return (n, 1)\n",
    "\n",
    "    fib1 = fib(n-1)\n",
    "    fib2 = fib(n-2)\n",
    "    print(fib1[0])\n",
    "    #print(fib2[0])\n",
    "\n",
    "    return (fib1[0] + fib2[0], fib1[1] + fib2[1] + 1)"
   ]
  },
  {
   "cell_type": "code",
   "execution_count": 109,
   "metadata": {},
   "outputs": [
    {
     "name": "stdout",
     "output_type": "stream",
     "text": [
      "1\n",
      "1\n",
      "1\n",
      "2\n"
     ]
    },
    {
     "data": {
      "text/plain": [
       "(3, 9)"
      ]
     },
     "execution_count": 109,
     "metadata": {},
     "output_type": "execute_result"
    }
   ],
   "source": [
    "fib(4)"
   ]
  },
  {
   "cell_type": "code",
   "execution_count": 98,
   "metadata": {},
   "outputs": [
    {
     "data": {
      "text/plain": [
       "(610, 1973)"
      ]
     },
     "execution_count": 98,
     "metadata": {},
     "output_type": "execute_result"
    }
   ],
   "source": [
    "fib(15)"
   ]
  },
  {
   "cell_type": "code",
   "execution_count": 99,
   "metadata": {},
   "outputs": [
    {
     "data": {
      "text/plain": [
       "(6765, 21891)"
      ]
     },
     "execution_count": 99,
     "metadata": {},
     "output_type": "execute_result"
    }
   ],
   "source": [
    "fib(20)"
   ]
  },
  {
   "cell_type": "markdown",
   "metadata": {},
   "source": [
    "### Calculate an average value\n",
    "We know how to calculate an average value iteratively:\n",
    "\n",
    "def average(nums):\n",
    "\n",
    "    result = 0\n",
    "\n",
    "    for num in nums:\n",
    "        result += num\n",
    "\n",
    "    return result/len(nums)\n",
    "    \n",
    "Could you provide a recursive solution? A formula for updating an average value given a new input might be handy:\n",
    "\n",
    "x¯ = (xi+(n−1)x¯)/n\n",
    "\n",
    "\n",
    "Here, x¯ stands for an average value, xi is a new supplied value which is used to update the average, and n corresponds to the recursive call number (excluding the initial call to the function)."
   ]
  },
  {
   "cell_type": "code",
   "execution_count": 1,
   "metadata": {},
   "outputs": [
    {
     "name": "stdout",
     "output_type": "stream",
     "text": [
      "3.0\n"
     ]
    }
   ],
   "source": [
    "# Calculate an average value of the sequence of numbers\n",
    "def average(nums):\n",
    "  \n",
    "    # Base case\n",
    "    if len(nums) == 1:  \n",
    "        return nums[0]\n",
    "    \n",
    "    # Recursive call\n",
    "    n = len(nums)\n",
    "    return (nums[0] + (n-1) * average(nums[1:])) / n\n",
    "\n",
    "# Testing the function\n",
    "print(average([1, 2, 3, 4, 5]))"
   ]
  },
  {
   "cell_type": "markdown",
   "metadata": {},
   "source": [
    "### Approximate Pi with recursion\n",
    "The number π can be computed by the following formula:\n",
    "\n",
    "π=4 * ∑k=0 to ∞(−1)^k/(2k+1) = 4(1/1−1/3+1/5−1/7+1/9−...)\n",
    "\n",
    "Your task is to write a recursive function to approximate π using the formula defined above (the approximation means that instead of infinity ∞, the sequence considers only a certain amount of elements n)."
   ]
  },
  {
   "cell_type": "code",
   "execution_count": 5,
   "metadata": {},
   "outputs": [
    {
     "name": "stdout",
     "output_type": "stream",
     "text": [
      "approx = 3.143588659585789, theor = 3.141592653589793\n"
     ]
    }
   ],
   "source": [
    "import math\n",
    "# Write an expression to get the k-th element of the series \n",
    "get_elmnt = lambda k: ((-1)**k)/(2*k+1)\n",
    "\n",
    "def calc_pi(n):\n",
    "    curr_elmnt = get_elmnt(n)\n",
    "    \n",
    "    # Define the base case\n",
    "    if n==0:\n",
    "    \treturn 4\n",
    "      \n",
    "    # Make the recursive call\n",
    "    return 4*curr_elmnt + calc_pi(n-1)\n",
    "  \n",
    "# Compare the approximated Pi value to the theoretical one\n",
    "print(\"approx = {}, theor = {}\".format(calc_pi(500), math.pi))"
   ]
  },
  {
   "cell_type": "code",
   "execution_count": null,
   "metadata": {},
   "outputs": [],
   "source": []
  },
  {
   "cell_type": "code",
   "execution_count": null,
   "metadata": {},
   "outputs": [],
   "source": []
  }
 ],
 "metadata": {
  "kernelspec": {
   "display_name": "Python 3",
   "language": "python",
   "name": "python3"
  },
  "language_info": {
   "codemirror_mode": {
    "name": "ipython",
    "version": 3
   },
   "file_extension": ".py",
   "mimetype": "text/x-python",
   "name": "python",
   "nbconvert_exporter": "python",
   "pygments_lexer": "ipython3",
   "version": "3.7.3"
  }
 },
 "nbformat": 4,
 "nbformat_minor": 2
}
